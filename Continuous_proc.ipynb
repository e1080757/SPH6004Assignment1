{
 "cells": [
  {
   "cell_type": "code",
   "execution_count": 1,
   "id": "a5f8a206",
   "metadata": {},
   "outputs": [],
   "source": [
    "import pandas as pd\n",
    "import numpy as np\n",
    "import scipy as sp\n",
    "\n",
    "pd.set_option(\"display.max_columns\", None)\n",
    "\n",
    "data_missing_less_40p = pd.read_csv('Assignment_1_data_missing_less_40p.csv', index_col=False)\n",
    "\n",
    "noncontinuous_var = ['gender', 'sofa_coagulation', 'sofa_cardiovascular','sofa_cns', 'sofa_renal', 'charlson_comorbidity_index']\n",
    "\n",
    "data_continuous = data_missing_less_40p.loc[:, ~data_missing_less_40p.columns.isin(noncontinuous_var)]\n",
    "data_continuous.to_csv('data_continuous.csv', index=False)  #comment to not write data\n"
   ]
  },
  {
   "cell_type": "code",
   "execution_count": 45,
   "id": "e26c8720",
   "metadata": {},
   "outputs": [],
   "source": [
    "import pandas as pd\n",
    "import numpy as np\n",
    "import scipy as sp\n",
    "from sklearn.impute import KNNImputer, SimpleImputer\n",
    "\n",
    "data_continuous = pd.read_csv('data_continuous.csv', index_col=False)\n",
    "noncontinuous_encoded = pd.read_csv('noncontinuous_encoded.csv', index_col=False)\n",
    "\n",
    "def make_knn_imputer(table, name_select_first_col, name_select_remaining_col):\n",
    "    knn_imputer = KNNImputer()\n",
    "    \n",
    "    X = table[name_select_first_col].to_numpy()\n",
    "    X = X.reshape(-1, 1)    \n",
    "   \n",
    "    knn_imputed_init = pd.DataFrame(knn_imputer.fit_transform(X), columns = [name_select_first_col])\n",
    "    \n",
    "    for i in name_select_remaining_col:\n",
    "        X = lambda i: table[i].to_numpy()\n",
    "        X = X(i).reshape(-1, 1)\n",
    "        \n",
    "        knn_imputed_temp = pd.DataFrame(knn_imputer.fit_transform(X), columns = [i])\n",
    "        knn_imputed_init = pd.concat([knn_imputed_init, knn_imputed_temp], axis=1)\n",
    "    \n",
    "    output = knn_imputed_init\n",
    "    \n",
    "    return output\n",
    "\n",
    "knn_imputed_contin = make_knn_imputer(data_continuous, 'age', list(data_continuous)[1:-1])\n",
    "knn_imputed_contin = pd.concat([knn_imputed_contin, noncontinuous_encoded[['gender', 'outcome']]], axis=1)\n",
    "knn_imputed_contin.to_csv('knn_imputed_contin.csv', index=False)  #comment to not write data\n",
    "\n",
    "#def addFeatures(feature_table, target_table):\n",
    "#    return pd.concat([target_table, feature_table], axis=1)\n",
    "\n",
    "def make_imp_median(table, name_select_first_col, name_select_remaining_col):\n",
    "    imp_median = SimpleImputer(strategy='median')\n",
    "    \n",
    "    X = table[name_select_first_col].to_numpy()\n",
    "    X = X.reshape(-1, 1)    \n",
    "   \n",
    "    imp_median_init = pd.DataFrame(imp_median.fit_transform(X), columns = [name_select_first_col])\n",
    "    \n",
    "    for i in name_select_remaining_col:\n",
    "        X = lambda i: table[i].to_numpy()\n",
    "        X = X(i).reshape(-1, 1)\n",
    "        \n",
    "        imp_median_temp = pd.DataFrame(imp_median.fit_transform(X), columns = [i])\n",
    "        imp_median_init = pd.concat([imp_median_init, imp_median_temp], axis=1)\n",
    "    \n",
    "    output = imp_median_init\n",
    "    \n",
    "    return output\n",
    "\n",
    "median_imputed_contin = make_imp_median(data_continuous, 'age', list(data_continuous)[1:-1])\n",
    "median_imputed_contin = pd.concat([median_imputed_contin, noncontinuous_encoded[['gender', 'outcome']]], axis=1)\n",
    "median_imputed_contin.to_csv('median_imputed_contin.csv', index=False)  #comment to not write data\n"
   ]
  },
  {
   "cell_type": "markdown",
   "id": "f956c1a1",
   "metadata": {},
   "source": [
    "Kolmogorov-Smirnov test for goodness of fit to normality"
   ]
  },
  {
   "cell_type": "code",
   "execution_count": 46,
   "id": "7e485509",
   "metadata": {
    "scrolled": false
   },
   "outputs": [
    {
     "name": "stdout",
     "output_type": "stream",
     "text": [
      "age KstestResult(statistic=1.0, pvalue=0.0)\n",
      "heart_rate_min KstestResult(statistic=1.0, pvalue=0.0)\n",
      "heart_rate_max KstestResult(statistic=1.0, pvalue=0.0)\n",
      "heart_rate_mean KstestResult(statistic=1.0, pvalue=0.0)\n",
      "mbp_min KstestResult(statistic=0.9983749659384641, pvalue=0.0)\n",
      "mbp_max KstestResult(statistic=1.0, pvalue=0.0)\n",
      "mbp_mean KstestResult(statistic=1.0, pvalue=0.0)\n",
      "sbp_min KstestResult(statistic=0.9999449677831892, pvalue=0.0)\n",
      "sbp_max KstestResult(statistic=1.0, pvalue=0.0)\n",
      "sbp_mean KstestResult(statistic=1.0, pvalue=0.0)\n",
      "dbp_min KstestResult(statistic=0.9999174486104809, pvalue=0.0)\n",
      "dbp_max KstestResult(statistic=1.0, pvalue=0.0)\n",
      "dbp_mean KstestResult(statistic=1.0, pvalue=0.0)\n",
      "temperature_min KstestResult(statistic=1.0, pvalue=0.0)\n",
      "temperature_max KstestResult(statistic=1.0, pvalue=0.0)\n",
      "temperature_mean KstestResult(statistic=1.0, pvalue=0.0)\n",
      "glucose_min KstestResult(statistic=0.9999999999987201, pvalue=0.0)\n",
      "glucose_max KstestResult(statistic=0.9999999999987201, pvalue=0.0)\n",
      "wbc_min KstestResult(statistic=0.9718778191505588, pvalue=0.0)\n",
      "wbc_max KstestResult(statistic=0.9835356658610995, pvalue=0.0)\n",
      "creatinine_min KstestResult(statistic=0.649523688575548, pvalue=0.0)\n",
      "creatinine_max KstestResult(statistic=0.674047675238908, pvalue=0.0)\n",
      "hemoglobin_min KstestResult(statistic=0.9990197774473711, pvalue=0.0)\n",
      "hemoglobin_max KstestResult(statistic=0.9999702876336172, pvalue=0.0)\n",
      "pt_min KstestResult(statistic=0.9999999999999993, pvalue=0.0)\n",
      "pt_max KstestResult(statistic=0.9999999999999993, pvalue=0.0)\n",
      "urineoutput KstestResult(statistic=0.9962617738583864, pvalue=0.0)\n"
     ]
    }
   ],
   "source": [
    "import pandas as pd\n",
    "import numpy as np\n",
    "import scipy as sp\n",
    "from scipy.stats import kstest, norm\n",
    "\n",
    "data_continuous = pd.read_csv('data_continuous.csv', index_col=False)\n",
    "data_continuous = data_continuous.drop('outcome',axis= 1)\n",
    "\n",
    "for i in list(data_continuous):\n",
    "    print(i, kstest(data_continuous[i].dropna(), norm.cdf)) #.dropna() MNAR"
   ]
  },
  {
   "cell_type": "markdown",
   "id": "ab8e3f12",
   "metadata": {},
   "source": [
    "smoten on the imputed"
   ]
  },
  {
   "cell_type": "code",
   "execution_count": 50,
   "id": "5c8f7ca3",
   "metadata": {},
   "outputs": [],
   "source": [
    "import matplotlib.pyplot as plt\n",
    "import numpy as np\n",
    "import pandas as pd\n",
    "from sklearn.svm import SVC\n",
    "from sklearn.linear_model import SGDClassifier, SGDRegressor, RidgeCV, LassoCV\n",
    "from sklearn.preprocessing import OrdinalEncoder, LabelEncoder, StandardScaler, RobustScaler\n",
    "from sklearn.model_selection import train_test_split, KFold\n",
    "from sklearn.impute import KNNImputer, SimpleImputer\n",
    "from sklearn.pipeline import make_pipeline, Pipeline\n",
    "from sklearn.metrics import accuracy_score, classification_report, roc_auc_score\n",
    "from imblearn.over_sampling import SMOTEN\n",
    "\n",
    "knn_imputed_contin = pd.read_csv('knn_imputed_contin.csv', index_col=False)\n",
    "median_imputed_contin = pd.read_csv('median_imputed_contin.csv', index_col=False)\n",
    "\n",
    "pd.set_option(\"display.max_columns\", None)\n",
    "\n",
    "def smotenThis(table, lst, y_var):    \n",
    "    X = table[lst]\n",
    "    y = table[y_var].to_numpy()\n",
    "    y = y.ravel()\n",
    "    y = LabelEncoder().fit_transform(y)\n",
    "\n",
    "    oversample = SMOTEN()\n",
    "    X, y = oversample.fit_resample(X, y)    \n",
    "    array_X = pd.DataFrame(X)\n",
    "    array_y = pd.DataFrame(y, columns = [y_var])\n",
    "    \n",
    "    output = pd.concat([array_X, array_y], axis=1)\n",
    "    \n",
    "    return output\n",
    "\n",
    "smoten_knn_contin = smotenThis(knn_imputed_contin, list(knn_imputed_contin.drop('outcome',axis= 1)), 'outcome')\n",
    "smoten_knn_contin.to_csv('smoten_knn_contin.csv', index=False)  #comment to not write data\n",
    "\n",
    "smoten_median_imputed_contin = smotenThis(median_imputed_contin, list(median_imputed_contin.drop('outcome',axis= 1)), 'outcome')\n",
    "smoten_median_imputed_contin.to_csv('smoten_median_imputed_contin.csv', index=False)  #comment to not write data\n",
    "\n",
    "\n",
    "    \n"
   ]
  },
  {
   "cell_type": "code",
   "execution_count": null,
   "id": "4e914cb6",
   "metadata": {},
   "outputs": [],
   "source": []
  }
 ],
 "metadata": {
  "kernelspec": {
   "display_name": "Python 3 (ipykernel)",
   "language": "python",
   "name": "python3"
  },
  "language_info": {
   "codemirror_mode": {
    "name": "ipython",
    "version": 3
   },
   "file_extension": ".py",
   "mimetype": "text/x-python",
   "name": "python",
   "nbconvert_exporter": "python",
   "pygments_lexer": "ipython3",
   "version": "3.9.13"
  }
 },
 "nbformat": 4,
 "nbformat_minor": 5
}
