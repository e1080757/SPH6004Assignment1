{
 "cells": [
  {
   "cell_type": "code",
   "execution_count": 11,
   "id": "e26c8720",
   "metadata": {},
   "outputs": [],
   "source": [
    "import pandas as pd\n",
    "import numpy as np\n",
    "import scipy as sp\n",
    "from sklearn.impute import KNNImputer, SimpleImputer\n",
    "\n",
    "\n",
    "data_missing_less_40p = pd.read_csv('Assignment_1_data_missing_less_40p.csv', index_col=False)\n",
    "noncontinuous_encoded = pd.read_csv('noncontinuous_encoded.csv', index_col=False)\n",
    "\n",
    "less_40p_encoded = pd.concat([noncontinuous_encoded['gender'], data_missing_less_40p.drop('gender',axis= 1)], axis= 1)\n",
    "less_40p_encoded.to_csv('less_40p_encoded.csv', index=False)  #comment to not write data\n"
   ]
  },
  {
   "cell_type": "code",
   "execution_count": 12,
   "id": "2e9c627f",
   "metadata": {},
   "outputs": [],
   "source": [
    "def make_knn_imputer(table, name_select_first_col, name_select_remaining_col):\n",
    "    knn_imputer = KNNImputer()\n",
    "    \n",
    "    X = table[name_select_first_col].to_numpy()\n",
    "    X = X.reshape(-1, 1)    \n",
    "   \n",
    "    knn_imputed_init = pd.DataFrame(knn_imputer.fit_transform(X), columns = [name_select_first_col])\n",
    "    \n",
    "    for i in name_select_remaining_col:\n",
    "        X = lambda i: table[i].to_numpy()\n",
    "        X = X(i).reshape(-1, 1)\n",
    "        \n",
    "        knn_imputed_temp = pd.DataFrame(knn_imputer.fit_transform(X), columns = [i])\n",
    "        knn_imputed_init = pd.concat([knn_imputed_init, knn_imputed_temp], axis=1)\n",
    "    \n",
    "    output = knn_imputed_init\n",
    "    \n",
    "    return output\n",
    "\n",
    "knn_imputed_less_40 = make_knn_imputer(less_40p_encoded, 'gender', list(less_40p_encoded)[1:])\n",
    "knn_imputed_less_40.to_csv('knn_imputed_less_40.csv', index=False)  #comment to not write data\n",
    "\n",
    "#def addFeatures(feature_table, target_table):\n",
    "#    return pd.concat([target_table, feature_table], axis=1)\n",
    "\n",
    "def make_imp_median(table, name_select_first_col, name_select_remaining_col):\n",
    "    imp_median = SimpleImputer(strategy='median')\n",
    "    \n",
    "    X = table[name_select_first_col].to_numpy()\n",
    "    X = X.reshape(-1, 1)    \n",
    "   \n",
    "    imp_median_init = pd.DataFrame(imp_median.fit_transform(X), columns = [name_select_first_col])\n",
    "    \n",
    "    for i in name_select_remaining_col:\n",
    "        X = lambda i: table[i].to_numpy()\n",
    "        X = X(i).reshape(-1, 1)\n",
    "        \n",
    "        imp_median_temp = pd.DataFrame(imp_median.fit_transform(X), columns = [i])\n",
    "        imp_median_init = pd.concat([imp_median_init, imp_median_temp], axis=1)\n",
    "    \n",
    "    output = imp_median_init\n",
    "    \n",
    "    return output\n",
    "\n",
    "median_imputed_less_40 = make_imp_median(less_40p_encoded, 'gender', list(less_40p_encoded)[1:])\n",
    "median_imputed_less_40.to_csv('median_imputed_less_40.csv', index=False) #comment to not write data\n"
   ]
  },
  {
   "cell_type": "markdown",
   "id": "ec924c75",
   "metadata": {},
   "source": [
    "smoten on the imputed"
   ]
  },
  {
   "cell_type": "code",
   "execution_count": 14,
   "id": "73454b60",
   "metadata": {},
   "outputs": [],
   "source": [
    "import matplotlib.pyplot as plt\n",
    "import numpy as np\n",
    "import pandas as pd\n",
    "from sklearn.svm import SVC\n",
    "from sklearn.linear_model import SGDClassifier, SGDRegressor, RidgeCV, LassoCV\n",
    "from sklearn.preprocessing import OrdinalEncoder, LabelEncoder, StandardScaler, RobustScaler\n",
    "from sklearn.model_selection import train_test_split, KFold\n",
    "from sklearn.impute import KNNImputer, SimpleImputer\n",
    "from sklearn.pipeline import make_pipeline, Pipeline\n",
    "from sklearn.metrics import accuracy_score, classification_report, roc_auc_score\n",
    "from imblearn.over_sampling import SMOTEN\n",
    "\n",
    "median_imputed_less_40 = pd.read_csv('median_imputed_less_40.csv', index_col=False)\n",
    "\n",
    "pd.set_option(\"display.max_columns\", None)\n",
    "\n",
    "def smotenThis(table, lst, y_var):    \n",
    "    X = table[lst]\n",
    "    y = table[y_var].to_numpy()\n",
    "    y = y.ravel()\n",
    "    y = LabelEncoder().fit_transform(y)\n",
    "\n",
    "    oversample = SMOTEN()\n",
    "    X, y = oversample.fit_resample(X, y)    \n",
    "    array_X = pd.DataFrame(X)\n",
    "    array_y = pd.DataFrame(y, columns = [y_var])\n",
    "    \n",
    "    output = pd.concat([array_X, array_y], axis=1)\n",
    "    \n",
    "    return output\n",
    "\n",
    "smoten_median_imputed_less_40 = smotenThis(median_imputed_less_40, list(median_imputed_less_40.drop('outcome',axis= 1)), 'outcome')\n",
    "smoten_median_imputed_less_40.to_csv('smoten_median_imputed_less_40.csv', index=False)  #comment to not write data\n",
    "\n",
    "\n",
    "    \n"
   ]
  },
  {
   "cell_type": "code",
   "execution_count": null,
   "id": "78da2486",
   "metadata": {},
   "outputs": [],
   "source": []
  },
  {
   "cell_type": "code",
   "execution_count": null,
   "id": "756fcf54",
   "metadata": {},
   "outputs": [],
   "source": []
  }
 ],
 "metadata": {
  "kernelspec": {
   "display_name": "Python 3 (ipykernel)",
   "language": "python",
   "name": "python3"
  },
  "language_info": {
   "codemirror_mode": {
    "name": "ipython",
    "version": 3
   },
   "file_extension": ".py",
   "mimetype": "text/x-python",
   "name": "python",
   "nbconvert_exporter": "python",
   "pygments_lexer": "ipython3",
   "version": "3.9.13"
  }
 },
 "nbformat": 4,
 "nbformat_minor": 5
}
